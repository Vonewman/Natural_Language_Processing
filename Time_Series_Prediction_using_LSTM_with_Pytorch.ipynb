{
  "nbformat": 4,
  "nbformat_minor": 0,
  "metadata": {
    "colab": {
      "name": "Time Series Prediction using LSTM with Pytorch.ipynb",
      "provenance": [],
      "authorship_tag": "ABX9TyO8uPWNsq12eOt9lrpIg5xZ",
      "include_colab_link": true
    },
    "kernelspec": {
      "name": "python3",
      "display_name": "Python 3"
    }
  },
  "cells": [
    {
      "cell_type": "markdown",
      "metadata": {
        "id": "view-in-github",
        "colab_type": "text"
      },
      "source": [
        "<a href=\"https://colab.research.google.com/github/Vonewman/Natural_Language_Processing/blob/master/Time_Series_Prediction_using_LSTM_with_Pytorch.ipynb\" target=\"_parent\"><img src=\"https://colab.research.google.com/assets/colab-badge.svg\" alt=\"Open In Colab\"/></a>"
      ]
    },
    {
      "cell_type": "markdown",
      "metadata": {
        "id": "YiBFp4lDI9V7",
        "colab_type": "text"
      },
      "source": [
        "## Dataset and Problem Definition\n",
        "\n",
        "The dataset that we will be using comes built-in with the *Python Seaborn Library*. Let's import the required libraries first and then will import the dataset:"
      ]
    },
    {
      "cell_type": "code",
      "metadata": {
        "id": "06LZBBrPHFPM",
        "colab_type": "code",
        "colab": {}
      },
      "source": [
        "import torch\n",
        "import torch.nn as nn\n",
        "\n",
        "import seaborn as sns\n",
        "import numpy as np\n",
        "import pandas as pd\n",
        "import matplotlib.pyplot as plt\n",
        "%matplotlib inline"
      ],
      "execution_count": 0,
      "outputs": []
    },
    {
      "cell_type": "markdown",
      "metadata": {
        "id": "tTNOyIUhKZPS",
        "colab_type": "text"
      },
      "source": [
        "Let's print the list of all the datasets that come built-in with the Seaborn library:"
      ]
    },
    {
      "cell_type": "code",
      "metadata": {
        "id": "ISx4b0YuJ_ME",
        "colab_type": "code",
        "colab": {
          "base_uri": "https://localhost:8080/",
          "height": 373
        },
        "outputId": "cae28b3b-29fc-49fa-8e4b-56e5b7ea0f86"
      },
      "source": [
        "sns.get_dataset_names()"
      ],
      "execution_count": 74,
      "outputs": [
        {
          "output_type": "stream",
          "text": [
            "/usr/local/lib/python3.6/dist-packages/seaborn/utils.py:384: UserWarning: No parser was explicitly specified, so I'm using the best available HTML parser for this system (\"lxml\"). This usually isn't a problem, but if you run this code on another system, or in a different virtual environment, it may use a different parser and behave differently.\n",
            "\n",
            "The code that caused this warning is on line 384 of the file /usr/local/lib/python3.6/dist-packages/seaborn/utils.py. To get rid of this warning, pass the additional argument 'features=\"lxml\"' to the BeautifulSoup constructor.\n",
            "\n",
            "  gh_list = BeautifulSoup(http)\n"
          ],
          "name": "stderr"
        },
        {
          "output_type": "execute_result",
          "data": {
            "text/plain": [
              "['anscombe',\n",
              " 'attention',\n",
              " 'brain_networks',\n",
              " 'car_crashes',\n",
              " 'diamonds',\n",
              " 'dots',\n",
              " 'exercise',\n",
              " 'flights',\n",
              " 'fmri',\n",
              " 'gammas',\n",
              " 'iris',\n",
              " 'mpg',\n",
              " 'planets',\n",
              " 'tips',\n",
              " 'titanic']"
            ]
          },
          "metadata": {
            "tags": []
          },
          "execution_count": 74
        }
      ]
    },
    {
      "cell_type": "markdown",
      "metadata": {
        "id": "CvF-6ZZfLkqc",
        "colab_type": "text"
      },
      "source": [
        "The dataset that we will be using is the **flights** dataset. Let's load the dataset into our application and see how it looks:"
      ]
    },
    {
      "cell_type": "code",
      "metadata": {
        "id": "GB8cVjwQLby4",
        "colab_type": "code",
        "colab": {
          "base_uri": "https://localhost:8080/",
          "height": 195
        },
        "outputId": "cd1270f8-dbb5-4029-df8c-3a2faab560a3"
      },
      "source": [
        "flight_data = sns.load_dataset('flights')\n",
        "flight_data.head()"
      ],
      "execution_count": 75,
      "outputs": [
        {
          "output_type": "execute_result",
          "data": {
            "text/html": [
              "<div>\n",
              "<style scoped>\n",
              "    .dataframe tbody tr th:only-of-type {\n",
              "        vertical-align: middle;\n",
              "    }\n",
              "\n",
              "    .dataframe tbody tr th {\n",
              "        vertical-align: top;\n",
              "    }\n",
              "\n",
              "    .dataframe thead th {\n",
              "        text-align: right;\n",
              "    }\n",
              "</style>\n",
              "<table border=\"1\" class=\"dataframe\">\n",
              "  <thead>\n",
              "    <tr style=\"text-align: right;\">\n",
              "      <th></th>\n",
              "      <th>year</th>\n",
              "      <th>month</th>\n",
              "      <th>passengers</th>\n",
              "    </tr>\n",
              "  </thead>\n",
              "  <tbody>\n",
              "    <tr>\n",
              "      <th>0</th>\n",
              "      <td>1949</td>\n",
              "      <td>January</td>\n",
              "      <td>112</td>\n",
              "    </tr>\n",
              "    <tr>\n",
              "      <th>1</th>\n",
              "      <td>1949</td>\n",
              "      <td>February</td>\n",
              "      <td>118</td>\n",
              "    </tr>\n",
              "    <tr>\n",
              "      <th>2</th>\n",
              "      <td>1949</td>\n",
              "      <td>March</td>\n",
              "      <td>132</td>\n",
              "    </tr>\n",
              "    <tr>\n",
              "      <th>3</th>\n",
              "      <td>1949</td>\n",
              "      <td>April</td>\n",
              "      <td>129</td>\n",
              "    </tr>\n",
              "    <tr>\n",
              "      <th>4</th>\n",
              "      <td>1949</td>\n",
              "      <td>May</td>\n",
              "      <td>121</td>\n",
              "    </tr>\n",
              "  </tbody>\n",
              "</table>\n",
              "</div>"
            ],
            "text/plain": [
              "   year     month  passengers\n",
              "0  1949   January         112\n",
              "1  1949  February         118\n",
              "2  1949     March         132\n",
              "3  1949     April         129\n",
              "4  1949       May         121"
            ]
          },
          "metadata": {
            "tags": []
          },
          "execution_count": 75
        }
      ]
    },
    {
      "cell_type": "code",
      "metadata": {
        "id": "4kru1JawLwSI",
        "colab_type": "code",
        "colab": {
          "base_uri": "https://localhost:8080/",
          "height": 34
        },
        "outputId": "0aa8a5db-cdc7-4139-9d85-96fe80a1dce3"
      },
      "source": [
        "flight_data.shape"
      ],
      "execution_count": 76,
      "outputs": [
        {
          "output_type": "execute_result",
          "data": {
            "text/plain": [
              "(144, 3)"
            ]
          },
          "metadata": {
            "tags": []
          },
          "execution_count": 76
        }
      ]
    },
    {
      "cell_type": "code",
      "metadata": {
        "id": "2YaUb5T3MQOp",
        "colab_type": "code",
        "colab": {}
      },
      "source": [
        "fig_size = plt.rcParams[\"figure.figsize\"]\n",
        "fig_size[0] = 15\n",
        "fig_size[1] = 5\n",
        "plt.rcParams[\"figure.figsize\"] = fig_size"
      ],
      "execution_count": 0,
      "outputs": []
    },
    {
      "cell_type": "code",
      "metadata": {
        "id": "ehFUuNo-Na0y",
        "colab_type": "code",
        "colab": {
          "base_uri": "https://localhost:8080/",
          "height": 367
        },
        "outputId": "6ded182f-b458-4579-e593-142e87e01a4d"
      },
      "source": [
        "plt.title('Month vs Passenger')\n",
        "plt.ylabel('Total Passengers')\n",
        "plt.xlabel('Months')\n",
        "plt.grid(True)\n",
        "plt.autoscale(axis='x',tight=True)\n",
        "plt.plot(flight_data['passengers'])"
      ],
      "execution_count": 78,
      "outputs": [
        {
          "output_type": "execute_result",
          "data": {
            "text/plain": [
              "[<matplotlib.lines.Line2D at 0x7f0d0fd8fac8>]"
            ]
          },
          "metadata": {
            "tags": []
          },
          "execution_count": 78
        },
        {
          "output_type": "display_data",
          "data": {
            "image/png": "[encoded data removed]",
            "text/plain": [
              "<Figure size 1080x360 with 1 Axes>"
            ]
          },
          "metadata": {
            "tags": [],
            "needs_background": "light"
          }
        }
      ]
    },
    {
      "cell_type": "markdown",
      "metadata": {
        "id": "76Qr1NHhNq0E",
        "colab_type": "text"
      },
      "source": [
        "## Data Preprocessing"
      ]
    },
    {
      "cell_type": "code",
      "metadata": {
        "id": "e2PVFNh-Ni01",
        "colab_type": "code",
        "colab": {
          "base_uri": "https://localhost:8080/",
          "height": 34
        },
        "outputId": "17438188-6c50-4403-acb8-ce5251edc1a6"
      },
      "source": [
        "flight_data.columns"
      ],
      "execution_count": 79,
      "outputs": [
        {
          "output_type": "execute_result",
          "data": {
            "text/plain": [
              "Index(['year', 'month', 'passengers'], dtype='object')"
            ]
          },
          "metadata": {
            "tags": []
          },
          "execution_count": 79
        }
      ]
    },
    {
      "cell_type": "markdown",
      "metadata": {
        "id": "4LD3O-2jN4oL",
        "colab_type": "text"
      },
      "source": [
        "The first preprocessing step is to change the type of the *passengers* column to *float*."
      ]
    },
    {
      "cell_type": "code",
      "metadata": {
        "id": "-irROFX1Nwcb",
        "colab_type": "code",
        "colab": {}
      },
      "source": [
        "all_data = flight_data['passengers'].values.astype(float)"
      ],
      "execution_count": 0,
      "outputs": []
    },
    {
      "cell_type": "code",
      "metadata": {
        "id": "kQaJTnF1Ozwa",
        "colab_type": "code",
        "colab": {
          "base_uri": "https://localhost:8080/",
          "height": 202
        },
        "outputId": "080eaa38-d124-4391-b18f-28038d0b9624"
      },
      "source": [
        "print(all_data)"
      ],
      "execution_count": 81,
      "outputs": [
        {
          "output_type": "stream",
          "text": [
            "[112. 118. 132. 129. 121. 135. 148. 148. 136. 119. 104. 118. 115. 126.\n",
            " 141. 135. 125. 149. 170. 170. 158. 133. 114. 140. 145. 150. 178. 163.\n",
            " 172. 178. 199. 199. 184. 162. 146. 166. 171. 180. 193. 181. 183. 218.\n",
            " 230. 242. 209. 191. 172. 194. 196. 196. 236. 235. 229. 243. 264. 272.\n",
            " 237. 211. 180. 201. 204. 188. 235. 227. 234. 264. 302. 293. 259. 229.\n",
            " 203. 229. 242. 233. 267. 269. 270. 315. 364. 347. 312. 274. 237. 278.\n",
            " 284. 277. 317. 313. 318. 374. 413. 405. 355. 306. 271. 306. 315. 301.\n",
            " 356. 348. 355. 422. 465. 467. 404. 347. 305. 336. 340. 318. 362. 348.\n",
            " 363. 435. 491. 505. 404. 359. 310. 337. 360. 342. 406. 396. 420. 472.\n",
            " 548. 559. 463. 407. 362. 405. 417. 391. 419. 461. 472. 535. 622. 606.\n",
            " 508. 461. 390. 432.]\n"
          ],
          "name": "stdout"
        }
      ]
    },
    {
      "cell_type": "markdown",
      "metadata": {
        "id": "iXqKFmqeT2HD",
        "colab_type": "text"
      },
      "source": [
        "Split the data into train and test dataset"
      ]
    },
    {
      "cell_type": "code",
      "metadata": {
        "id": "P1eioWSlO2gA",
        "colab_type": "code",
        "colab": {}
      },
      "source": [
        "test_data_size = 12\n",
        "\n",
        "train_data = all_data[:-test_data_size]\n",
        "test_data  = all_data[-test_data_size:]"
      ],
      "execution_count": 0,
      "outputs": []
    },
    {
      "cell_type": "markdown",
      "metadata": {
        "id": "C7blNdoIUtBT",
        "colab_type": "text"
      },
      "source": [
        "Let's now print the length of the test and train sets:"
      ]
    },
    {
      "cell_type": "code",
      "metadata": {
        "id": "99zsmShpUpYg",
        "colab_type": "code",
        "colab": {
          "base_uri": "https://localhost:8080/",
          "height": 50
        },
        "outputId": "88627c91-6590-445f-c6fe-d2a54f5584a4"
      },
      "source": [
        "print(len(train_data))\n",
        "print(len(test_data))"
      ],
      "execution_count": 83,
      "outputs": [
        {
          "output_type": "stream",
          "text": [
            "132\n",
            "12\n"
          ],
          "name": "stdout"
        }
      ]
    },
    {
      "cell_type": "code",
      "metadata": {
        "id": "eEy-tLYYVBlT",
        "colab_type": "code",
        "colab": {
          "base_uri": "https://localhost:8080/",
          "height": 34
        },
        "outputId": "11b561b9-5d21-494e-93ab-ece503004dae"
      },
      "source": [
        "print(test_data)"
      ],
      "execution_count": 84,
      "outputs": [
        {
          "output_type": "stream",
          "text": [
            "[417. 391. 419. 461. 472. 535. 622. 606. 508. 461. 390. 432.]\n"
          ],
          "name": "stdout"
        }
      ]
    },
    {
      "cell_type": "markdown",
      "metadata": {
        "id": "CLnnwVF1c49r",
        "colab_type": "text"
      },
      "source": [
        "Our dataset is not normalized at the moment. The total number of passengers in the initial years is far less compared to the total number of passengers in the later years. It is very important to normalize the data for time series predictions. We will perform min/max scaling on the dataset which normalizes the data within a certain range of minimum and maximum values. We will be using the MinMaxScaler class from the sklearn.preprocessing module to scale our data. For further details of the min/max scaler implementation, visit this link."
      ]
    },
    {
      "cell_type": "markdown",
      "metadata": {
        "id": "oAF1aRUUeMxc",
        "colab_type": "text"
      },
      "source": [
        "The following code normalizes our data using the min/max scaler with minimum and maximum values of -1 and 1, respectively."
      ]
    },
    {
      "cell_type": "code",
      "metadata": {
        "id": "mbvT0bJMEQ1E",
        "colab_type": "code",
        "colab": {}
      },
      "source": [
        "from sklearn.preprocessing import MinMaxScaler\n",
        "\n",
        "scaler = MinMaxScaler(feature_range=(-1,1))\n",
        "train_data_normalized = scaler.fit_transform(train_data.reshape(-1, 1))"
      ],
      "execution_count": 0,
      "outputs": []
    },
    {
      "cell_type": "markdown",
      "metadata": {
        "id": "ePnDw0PhildF",
        "colab_type": "text"
      },
      "source": [
        "Let's now print the first 5 and last 5 records of our normalized train data."
      ]
    },
    {
      "cell_type": "code",
      "metadata": {
        "id": "hr5ilcFvfmrD",
        "colab_type": "code",
        "colab": {
          "base_uri": "https://localhost:8080/",
          "height": 185
        },
        "outputId": "eb2e1450-5470-4030-a256-e6a15e0f64ef"
      },
      "source": [
        "print(train_data_normalized[:5])\n",
        "print(train_data_normalized[-5:])"
      ],
      "execution_count": 86,
      "outputs": [
        {
          "output_type": "stream",
          "text": [
            "[[-0.96483516]\n",
            " [-0.93846154]\n",
            " [-0.87692308]\n",
            " [-0.89010989]\n",
            " [-0.92527473]]\n",
            "[[1.        ]\n",
            " [0.57802198]\n",
            " [0.33186813]\n",
            " [0.13406593]\n",
            " [0.32307692]]\n"
          ],
          "name": "stdout"
        }
      ]
    },
    {
      "cell_type": "markdown",
      "metadata": {
        "id": "oG1gxlSsmI_9",
        "colab_type": "text"
      },
      "source": [
        "The next step is to convert our dataset into tensors since PyTorch models are trained using tensors. To convert the dataset into tensors, we can simply pass our dataset to the constructor of the FloatTensor object, as shown below:"
      ]
    },
    {
      "cell_type": "code",
      "metadata": {
        "id": "cnD9DXWkiie4",
        "colab_type": "code",
        "colab": {}
      },
      "source": [
        "train_data_normalized = torch.FloatTensor(train_data_normalized).view(-1)"
      ],
      "execution_count": 0,
      "outputs": []
    },
    {
      "cell_type": "markdown",
      "metadata": {
        "id": "9PUV9kIKo4XH",
        "colab_type": "text"
      },
      "source": [
        "The final preprocessing step is to convert our training data into sequences and corresponding labels.\n"
      ]
    },
    {
      "cell_type": "code",
      "metadata": {
        "id": "dDj-zabBnEBb",
        "colab_type": "code",
        "colab": {}
      },
      "source": [
        "train_window = 12"
      ],
      "execution_count": 0,
      "outputs": []
    },
    {
      "cell_type": "markdown",
      "metadata": {
        "id": "FbBsE89Numx0",
        "colab_type": "text"
      },
      "source": [
        "Next, we will define a function named **create_inout_sequences**. The function will accept the raw input data and will return a list of tuples. In each tuple, the first element will contain list of 12 items corresponding to the number of passengers traveling in 12 months, the second tuple element will contain one item i.e. the number of passengers in the 12+1st month."
      ]
    },
    {
      "cell_type": "code",
      "metadata": {
        "id": "kLo--WCcuf-W",
        "colab_type": "code",
        "colab": {}
      },
      "source": [
        "def create_inout_sequences(inout_data, tw):\n",
        "  inout_seq = []\n",
        "  L = len(inout_data)\n",
        "  for i in range(L-tw):\n",
        "    train_seq = inout_data[i:i+tw]\n",
        "    train_label = inout_data[i+tw:i+tw+1]\n",
        "    inout_seq.append((train_seq, train_label))\n",
        "  return inout_seq"
      ],
      "execution_count": 0,
      "outputs": []
    },
    {
      "cell_type": "code",
      "metadata": {
        "id": "-Xs5orATz9OR",
        "colab_type": "code",
        "colab": {}
      },
      "source": [
        "train_inout_seq = create_inout_sequences(train_data_normalized, train_window)"
      ],
      "execution_count": 0,
      "outputs": []
    },
    {
      "cell_type": "markdown",
      "metadata": {
        "id": "uoFapz0Y5Egs",
        "colab_type": "text"
      },
      "source": [
        "Let's now print the first 5 items of the train_inout_seq list:"
      ]
    },
    {
      "cell_type": "code",
      "metadata": {
        "id": "gDd7DrOb2oNp",
        "colab_type": "code",
        "colab": {
          "base_uri": "https://localhost:8080/",
          "height": 202
        },
        "outputId": "19b3eafc-ae9a-44bf-8826-341b21689e02"
      },
      "source": [
        "train_inout_seq[:5]"
      ],
      "execution_count": 91,
      "outputs": [
        {
          "output_type": "execute_result",
          "data": {
            "text/plain": [
              "[(tensor([-0.9648, -0.9385, -0.8769, -0.8901, -0.9253, -0.8637, -0.8066, -0.8066,\n",
              "          -0.8593, -0.9341, -1.0000, -0.9385]), tensor([-0.9516])),\n",
              " (tensor([-0.9385, -0.8769, -0.8901, -0.9253, -0.8637, -0.8066, -0.8066, -0.8593,\n",
              "          -0.9341, -1.0000, -0.9385, -0.9516]),\n",
              "  tensor([-0.9033])),\n",
              " (tensor([-0.8769, -0.8901, -0.9253, -0.8637, -0.8066, -0.8066, -0.8593, -0.9341,\n",
              "          -1.0000, -0.9385, -0.9516, -0.9033]), tensor([-0.8374])),\n",
              " (tensor([-0.8901, -0.9253, -0.8637, -0.8066, -0.8066, -0.8593, -0.9341, -1.0000,\n",
              "          -0.9385, -0.9516, -0.9033, -0.8374]), tensor([-0.8637])),\n",
              " (tensor([-0.9253, -0.8637, -0.8066, -0.8066, -0.8593, -0.9341, -1.0000, -0.9385,\n",
              "          -0.9516, -0.9033, -0.8374, -0.8637]), tensor([-0.9077]))]"
            ]
          },
          "metadata": {
            "tags": []
          },
          "execution_count": 91
        }
      ]
    },
    {
      "cell_type": "markdown",
      "metadata": {
        "id": "ZJmqwwda6BV-",
        "colab_type": "text"
      },
      "source": [
        "## Creating LSTM model\n",
        "\n",
        "We have preprocessed the data, now is the time to train our model. We will define a class **LSTM**, which inherits from **nn.Module** class of the **PyTorch** library. Check out my last article to see how to create a classification model with PyTorch. That article will help you understand what is happening in the following code."
      ]
    },
    {
      "cell_type": "code",
      "metadata": {
        "id": "ln7lbPQc5HZ_",
        "colab_type": "code",
        "colab": {}
      },
      "source": [
        "class LSTM(nn.Module):\n",
        "  def __init__(self, input_size=1, hidden_layer_size=100, output_size=1):\n",
        "    super().__init__()\n",
        "    self.hidden_layer_size = hidden_layer_size\n",
        "\n",
        "    self.lstm = nn.LSTM(input_size, hidden_layer_size)\n",
        "\n",
        "    self.linear = nn.Linear(hidden_layer_size, output_size)\n",
        "\n",
        "    self.hidden_cell = (torch.zeros(1,1,self.hidden_layer_size),\n",
        "                            torch.zeros(1,1,self.hidden_layer_size))\n",
        "\n",
        "    def forward(self, input_seq):\n",
        "        lstm_out, self.hidden_cell = self.lstm(input_seq.view(len(input_seq) ,1, -1), self.hidden_cell)\n",
        "        predictions = self.linear(lstm_out.view(len(input_seq), -1))\n",
        "        return predictions[-1]"
      ],
      "execution_count": 0,
      "outputs": []
    },
    {
      "cell_type": "markdown",
      "metadata": {
        "id": "Pi011SF6NoxU",
        "colab_type": "text"
      },
      "source": [
        "\n",
        "The next step is to create an object of the LSTM() class, define a loss function and the optimizer. Since, we are solving a classification problem, we will use the cross entropy loss. For the optimizer function, we will use the adam optimizer."
      ]
    },
    {
      "cell_type": "code",
      "metadata": {
        "id": "tclG-PFXIFuF",
        "colab_type": "code",
        "colab": {}
      },
      "source": [
        "model = LSTM()\n",
        "loss_function = nn.MSELoss()\n",
        "optimizer = torch.optim.Adam(model.parameters(), lr=0.001)"
      ],
      "execution_count": 0,
      "outputs": []
    },
    {
      "cell_type": "code",
      "metadata": {
        "id": "B0LJEsFfNtSy",
        "colab_type": "code",
        "colab": {
          "base_uri": "https://localhost:8080/",
          "height": 84
        },
        "outputId": "234705b2-5e99-4e63-fcb5-06bff740fbf6"
      },
      "source": [
        "print(model)"
      ],
      "execution_count": 94,
      "outputs": [
        {
          "output_type": "stream",
          "text": [
            "LSTM(\n",
            "  (lstm): LSTM(1, 100)\n",
            "  (linear): Linear(in_features=100, out_features=1, bias=True)\n",
            ")\n"
          ],
          "name": "stdout"
        }
      ]
    },
    {
      "cell_type": "code",
      "metadata": {
        "id": "k2dUBpmUeAx4",
        "colab_type": "code",
        "colab": {}
      },
      "source": [
        ""
      ],
      "execution_count": 0,
      "outputs": []
    }
  ]
}