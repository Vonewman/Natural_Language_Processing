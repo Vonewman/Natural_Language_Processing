{
  "nbformat": 4,
  "nbformat_minor": 0,
  "metadata": {
    "colab": {
      "name": "intro_to_supervised_learning_for_nlp.ipynb",
      "provenance": [],
      "authorship_tag": "ABX9TyM8zyfaUBEuk1cqv39kBvFD",
      "include_colab_link": true
    },
    "kernelspec": {
      "name": "python3",
      "display_name": "Python 3"
    }
  },
  "cells": [
    {
      "cell_type": "markdown",
      "metadata": {
        "id": "view-in-github",
        "colab_type": "text"
      },
      "source": [
        "<a href=\"https://colab.research.google.com/github/Vonewman/Natural_Language_Processing_with_Pytorch/blob/master/intro_to_supervised_learning_for_nlp.ipynb\" target=\"_parent\"><img src=\"https://colab.research.google.com/assets/colab-badge.svg\" alt=\"Open In Colab\"/></a>"
      ]
    },
    {
      "cell_type": "markdown",
      "metadata": {
        "id": "RhENRhuFr1aA",
        "colab_type": "text"
      },
      "source": [
        "## TF-representation\n",
        "\n",
        "Generating a \"collapsed\" one-hot or binary representation using scickit-learn"
      ]
    },
    {
      "cell_type": "code",
      "metadata": {
        "id": "SC30rwb_ZMuU",
        "colab_type": "code",
        "outputId": "09cf2b59-cf46-47d3-96bc-5f6d5a9c438b",
        "colab": {
          "base_uri": "https://localhost:8080/",
          "height": 70
        }
      },
      "source": [
        "from sklearn.feature_extraction.text import CountVectorizer\n",
        "import seaborn as sns"
      ],
      "execution_count": 1,
      "outputs": [
        {
          "output_type": "stream",
          "text": [
            "/usr/local/lib/python3.6/dist-packages/statsmodels/tools/_testing.py:19: FutureWarning: pandas.util.testing is deprecated. Use the functions in the public API at pandas.testing instead.\n",
            "  import pandas.util.testing as tm\n"
          ],
          "name": "stderr"
        }
      ]
    },
    {
      "cell_type": "code",
      "metadata": {
        "id": "zoYkZwe_ZhuR",
        "colab_type": "code",
        "colab": {}
      },
      "source": [
        "corpus = ['Time flies flies like an arraow.',\n",
        "          'Fruit flies like a banana.']"
      ],
      "execution_count": 0,
      "outputs": []
    },
    {
      "cell_type": "code",
      "metadata": {
        "id": "p5PERviJaJrX",
        "colab_type": "code",
        "outputId": "27044b70-175c-441a-ea7a-f60b50cedd0a",
        "colab": {
          "base_uri": "https://localhost:8080/",
          "height": 282
        }
      },
      "source": [
        "one_hot_vectorizer = CountVectorizer(binary=True)\n",
        "one_hot = one_hot_vectorizer.fit_transform(corpus).toarray()\n",
        "sns.heatmap(one_hot, annot=True,\n",
        "            cbar=False, xticklabels='vocab',\n",
        "            yticklabels=['Sentence 2'])"
      ],
      "execution_count": 3,
      "outputs": [
        {
          "output_type": "execute_result",
          "data": {
            "text/plain": [
              "<matplotlib.axes._subplots.AxesSubplot at 0x7fdbc750f0b8>"
            ]
          },
          "metadata": {
            "tags": []
          },
          "execution_count": 3
        },
        {
          "output_type": "display_data",
          "data": {
            "image/png": "[encoded data removed]",
            "text/plain": [
              "<Figure size 432x288 with 1 Axes>"
            ]
          },
          "metadata": {
            "tags": [],
            "needs_background": "light"
          }
        }
      ]
    },
    {
      "cell_type": "markdown",
      "metadata": {
        "id": "dzt-vuVMMrhS",
        "colab_type": "text"
      },
      "source": [
        "## TF-IDF representation\n",
        "\n",
        "Generating a TF-IDF representation using scikit-learn"
      ]
    },
    {
      "cell_type": "code",
      "metadata": {
        "id": "2djxLCoC7Uaf",
        "colab_type": "code",
        "colab": {}
      },
      "source": [
        "from sklearn.feature_extraction.text import TfidfVectorizer\n",
        "import seaborn as sns"
      ],
      "execution_count": 0,
      "outputs": []
    },
    {
      "cell_type": "code",
      "metadata": {
        "id": "oy4MTjHjRjWH",
        "colab_type": "code",
        "colab": {}
      },
      "source": [
        "#tfidf_vectorizer = TfidfVectorizer()\n",
        "#tfidf = tfidf_vectorizer.fit_transform(corpus).toarray\n",
        "#sns.heatmap(tfidf, annot=True,\n",
        "#           cbar=False)"
      ],
      "execution_count": 0,
      "outputs": []
    },
    {
      "cell_type": "code",
      "metadata": {
        "id": "n37qeezVecE1",
        "colab_type": "code",
        "colab": {}
      },
      "source": [
        ""
      ],
      "execution_count": 0,
      "outputs": []
    }
  ]
}