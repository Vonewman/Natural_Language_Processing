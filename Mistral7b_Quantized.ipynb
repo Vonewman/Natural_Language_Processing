{
  "nbformat": 4,
  "nbformat_minor": 0,
  "metadata": {
    "colab": {
      "provenance": [],
      "authorship_tag": "ABX9TyOx4Q2fdLX7iMVlixCALlQi",
      "include_colab_link": true
    },
    "kernelspec": {
      "name": "python3",
      "display_name": "Python 3"
    },
    "language_info": {
      "name": "python"
    }
  },
  "cells": [
    {
      "cell_type": "markdown",
      "metadata": {
        "id": "view-in-github",
        "colab_type": "text"
      },
      "source": [
        "<a href=\"https://colab.research.google.com/github/Vonewman/Natural_Language_Processing/blob/master/Mistral7b_Quantized.ipynb\" target=\"_parent\"><img src=\"https://colab.research.google.com/assets/colab-badge.svg\" alt=\"Open In Colab\"/></a>"
      ]
    },
    {
      "cell_type": "markdown",
      "source": [
        "# Mistral7b Quantized"
      ],
      "metadata": {
        "id": "o_CjmhLlmdW1"
      }
    },
    {
      "cell_type": "code",
      "execution_count": 1,
      "metadata": {
        "colab": {
          "base_uri": "https://localhost:8080/"
        },
        "id": "-hHinEwlmbsg",
        "outputId": "17738494-b591-422e-ba1a-590e5dcf2fe3"
      },
      "outputs": [
        {
          "output_type": "stream",
          "name": "stdout",
          "text": [
            "--2023-11-28 20:23:51--  https://huggingface.co/TheBloke/Mistral-7B-Instruct-v0.1-GGUF/resolve/main/mistral-7b-instruct-v0.1.Q4_K_M.gguf\n",
            "Resolving huggingface.co (huggingface.co)... 18.172.134.124, 18.172.134.24, 18.172.134.4, ...\n",
            "Connecting to huggingface.co (huggingface.co)|18.172.134.124|:443... connected.\n",
            "HTTP request sent, awaiting response... 302 Found\n",
            "Location: https://cdn-lfs.huggingface.co/repos/46/12/46124cd8d4788fd8e0879883abfc473f247664b987955cc98a08658f7df6b826/14466f9d658bf4a79f96c3f3f22759707c291cac4e62fea625e80c7d32169991?response-content-disposition=attachment%3B+filename*%3DUTF-8%27%27mistral-7b-instruct-v0.1.Q4_K_M.gguf%3B+filename%3D%22mistral-7b-instruct-v0.1.Q4_K_M.gguf%22%3B&Expires=1701462003&Policy=eyJTdGF0ZW1lbnQiOlt7IkNvbmRpdGlvbiI6eyJEYXRlTGVzc1RoYW4iOnsiQVdTOkVwb2NoVGltZSI6MTcwMTQ2MjAwM319LCJSZXNvdXJjZSI6Imh0dHBzOi8vY2RuLWxmcy5odWdnaW5nZmFjZS5jby9yZXBvcy80Ni8xMi80NjEyNGNkOGQ0Nzg4ZmQ4ZTA4Nzk4ODNhYmZjNDczZjI0NzY2NGI5ODc5NTVjYzk4YTA4NjU4ZjdkZjZiODI2LzE0NDY2ZjlkNjU4YmY0YTc5Zjk2YzNmM2YyMjc1OTcwN2MyOTFjYWM0ZTYyZmVhNjI1ZTgwYzdkMzIxNjk5OTE%7EcmVzcG9uc2UtY29udGVudC1kaXNwb3NpdGlvbj0qIn1dfQ__&Signature=x5Z5yANabC6P15hl9LmX06ol-spmEsfiaHvJ-TB5DYGQfTYXaeeWnYXu0735j%7E9fuUBWZVYWhKJmM0bgiTqntZw2H-Ng3y15sDkpS%7ETaXUAABbBtVp-Kg2zx9OMsJdMc7buGj1oo3L7B9xb5T6oQQqx5KtuE8xX7b-60v1cVlryxvwEkIbCnfha3I4GMdMldxDqgPUYMwt0f4ISysS70pK-A%7ExjkIbfa5wr7yBLhaYFxbOn2bp2%7EIm6XpYeK3fhWZELNO%7EGd2hxvMO%7Eu13jZniyDDawyIyIO8qXxeMlsTW7qiXvUufYt2U9pv36453JMyfGBN3NQt71WuTBNuawX8A__&Key-Pair-Id=KVTP0A1DKRTAX [following]\n",
            "--2023-11-28 20:23:51--  https://cdn-lfs.huggingface.co/repos/46/12/46124cd8d4788fd8e0879883abfc473f247664b987955cc98a08658f7df6b826/14466f9d658bf4a79f96c3f3f22759707c291cac4e62fea625e80c7d32169991?response-content-disposition=attachment%3B+filename*%3DUTF-8%27%27mistral-7b-instruct-v0.1.Q4_K_M.gguf%3B+filename%3D%22mistral-7b-instruct-v0.1.Q4_K_M.gguf%22%3B&Expires=1701462003&Policy=eyJTdGF0ZW1lbnQiOlt7IkNvbmRpdGlvbiI6eyJEYXRlTGVzc1RoYW4iOnsiQVdTOkVwb2NoVGltZSI6MTcwMTQ2MjAwM319LCJSZXNvdXJjZSI6Imh0dHBzOi8vY2RuLWxmcy5odWdnaW5nZmFjZS5jby9yZXBvcy80Ni8xMi80NjEyNGNkOGQ0Nzg4ZmQ4ZTA4Nzk4ODNhYmZjNDczZjI0NzY2NGI5ODc5NTVjYzk4YTA4NjU4ZjdkZjZiODI2LzE0NDY2ZjlkNjU4YmY0YTc5Zjk2YzNmM2YyMjc1OTcwN2MyOTFjYWM0ZTYyZmVhNjI1ZTgwYzdkMzIxNjk5OTE%7EcmVzcG9uc2UtY29udGVudC1kaXNwb3NpdGlvbj0qIn1dfQ__&Signature=x5Z5yANabC6P15hl9LmX06ol-spmEsfiaHvJ-TB5DYGQfTYXaeeWnYXu0735j%7E9fuUBWZVYWhKJmM0bgiTqntZw2H-Ng3y15sDkpS%7ETaXUAABbBtVp-Kg2zx9OMsJdMc7buGj1oo3L7B9xb5T6oQQqx5KtuE8xX7b-60v1cVlryxvwEkIbCnfha3I4GMdMldxDqgPUYMwt0f4ISysS70pK-A%7ExjkIbfa5wr7yBLhaYFxbOn2bp2%7EIm6XpYeK3fhWZELNO%7EGd2hxvMO%7Eu13jZniyDDawyIyIO8qXxeMlsTW7qiXvUufYt2U9pv36453JMyfGBN3NQt71WuTBNuawX8A__&Key-Pair-Id=KVTP0A1DKRTAX\n",
            "Resolving cdn-lfs.huggingface.co (cdn-lfs.huggingface.co)... 108.156.120.58, 108.156.120.59, 108.156.120.55, ...\n",
            "Connecting to cdn-lfs.huggingface.co (cdn-lfs.huggingface.co)|108.156.120.58|:443... connected.\n",
            "HTTP request sent, awaiting response... 200 OK\n",
            "Length: 4368438944 (4.1G) [binary/octet-stream]\n",
            "Saving to: ‘mistral-7b-instruct-v0.1.Q4_K_M.gguf’\n",
            "\n",
            "mistral-7b-instruct 100%[===================>]   4.07G  87.4MB/s    in 27s     \n",
            "\n",
            "2023-11-28 20:24:18 (155 MB/s) - ‘mistral-7b-instruct-v0.1.Q4_K_M.gguf’ saved [4368438944/4368438944]\n",
            "\n"
          ]
        }
      ],
      "source": [
        "!wget https://huggingface.co/TheBloke/Mistral-7B-Instruct-v0.1-GGUF/resolve/main/mistral-7b-instruct-v0.1.Q4_K_M.gguf"
      ]
    },
    {
      "cell_type": "code",
      "source": [
        "%%capture\n",
        "!pip install ctransformers>=0.2.27"
      ],
      "metadata": {
        "id": "frD6T8TdnX6t"
      },
      "execution_count": 3,
      "outputs": []
    },
    {
      "cell_type": "code",
      "source": [
        "from ctransformers import AutoModelForCausalLM, AutoConfig, Config\n",
        "\n",
        "conf = AutoConfig(Config(temperature=0.8, repetition_penalty=1.1,\n",
        "                         batch_size=52, max_new_tokens=1024,\n",
        "                         context_length=2048))\n",
        "\n",
        "llm = AutoModelForCausalLM.from_pretrained(\"/content/mistral-7b-instruct-v0.1.Q4_K_M.gguf\",\n",
        "                                           model_type=\"mistral\", config = conf)"
      ],
      "metadata": {
        "id": "T6nut1NsmhCK"
      },
      "execution_count": 4,
      "outputs": []
    },
    {
      "cell_type": "code",
      "source": [
        "prompt = \"What is Process Control in Industrial Automation?\"\n",
        "mistral_prompt = f\"<s>[INST] {prompt} [/INST]\""
      ],
      "metadata": {
        "id": "IBIxrA3knVU3"
      },
      "execution_count": 5,
      "outputs": []
    },
    {
      "cell_type": "code",
      "source": [
        "answer = llm(mistral_prompt, temperature = 0.7,\n",
        "             repetition_penalty = 1.15,\n",
        "             max_new_tokens = 2048)\n",
        "print(answer)"
      ],
      "metadata": {
        "colab": {
          "base_uri": "https://localhost:8080/"
        },
        "id": "J55Md7mZoUIk",
        "outputId": "b86500c8-db7b-4036-e0a7-84c3fc34a7ec"
      },
      "execution_count": 6,
      "outputs": [
        {
          "output_type": "stream",
          "name": "stdout",
          "text": [
            " Process control refers to the methods and techniques used in industrial automation to ensure that manufacturing processes are operating efficiently, consistently, and accurately. The main goal of process control is to maintain a desired level of performance by monitoring and regulating various parameters such as temperature, pressure, flow rate, and chemical composition.\n",
            "\n",
            "Process control involves several key components:\n",
            "1. Measurement: This refers to the collection of data on process variables using sensors, instruments, and other measurement devices. The data is typically transmitted to a computer or controller for further analysis.\n",
            "2. Control: Once the process variables have been measured, they can be controlled using various control strategies such as proportional-integral-derivative (PID) controllers, feedback loops, and algorithmic controls. These controls adjust the process parameters in real-time to maintain a desired level of performance.\n",
            "3. Modeling: Process modeling involves creating mathematical models that simulate the behavior of manufacturing processes. These models can be used to predict how the process will respond to different inputs and to optimize control strategies.\n",
            "4. Optimization: Process optimization involves making improvements to the process to increase efficiency, reduce costs, and improve product quality. This may involve adjusting process parameters, changing equipment, or reconfiguring the manufacturing layout.\n",
            "\n",
            "Overall, process control is a critical component of industrial automation that helps ensure consistent and efficient operation of manufacturing processes.\n"
          ]
        }
      ]
    },
    {
      "cell_type": "code",
      "source": [],
      "metadata": {
        "id": "1t9tX8xXoUEp"
      },
      "execution_count": null,
      "outputs": []
    },
    {
      "cell_type": "code",
      "source": [],
      "metadata": {
        "id": "7uvnPpOsoUCG"
      },
      "execution_count": null,
      "outputs": []
    },
    {
      "cell_type": "code",
      "source": [],
      "metadata": {
        "id": "AiS51xqqoT-9"
      },
      "execution_count": null,
      "outputs": []
    },
    {
      "cell_type": "code",
      "source": [],
      "metadata": {
        "id": "ZD7U92K8oTrc"
      },
      "execution_count": null,
      "outputs": []
    }
  ]
}